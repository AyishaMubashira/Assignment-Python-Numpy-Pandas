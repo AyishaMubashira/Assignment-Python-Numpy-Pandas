{
 "cells": [
  {
   "cell_type": "code",
   "execution_count": 1,
   "id": "775c4ad4-6b0f-436c-898d-eeefde91a358",
   "metadata": {},
   "outputs": [],
   "source": [
    "import numpy as np"
   ]
  },
  {
   "cell_type": "code",
   "execution_count": 25,
   "id": "c22f6b8d-d1ae-4c12-ae0e-ac1ae4ac246e",
   "metadata": {},
   "outputs": [
    {
     "name": "stdout",
     "output_type": "stream",
     "text": [
      "[ 1  2  3  4  5  6  7  8  9 10]\n",
      "[[ 1  2  3  4  5]\n",
      " [ 6  7  8  9 10]]\n"
     ]
    }
   ],
   "source": [
    "#Exercise1\n",
    "#Create a numpy array containing the numbers from 1 to 10, and then reshape it to a 2x5 matrix. \n",
    "arr=np.arange(1,11)\n",
    "print(arr)\n",
    "arr1=arr.reshape(2,5)\n",
    "print(arr1)\n"
   ]
  },
  {
   "cell_type": "code",
   "execution_count": 27,
   "id": "60aabe99-8f97-4cfa-9397-9030e0edb01d",
   "metadata": {},
   "outputs": [
    {
     "name": "stdout",
     "output_type": "stream",
     "text": [
      "[ 1  2  3  4  5  6  7  8  9 10 11 12 13 14 15 16 17 18 19 20]\n",
      "[ 6  7  8  9 10 11 12 13 14 15]\n"
     ]
    }
   ],
   "source": [
    "#Exercise2\n",
    "#Create a numpy array containing the numbers from 1 to 20, and then extract the elements between the 5th and 15th index.\n",
    "arr=np.arange(1,21)\n",
    "print(arr)\n",
    "arr1=arr[5:15]\n",
    "print(arr1)"
   ]
  },
  {
   "cell_type": "code",
   "execution_count": 37,
   "id": "4ca10592-f7d8-4b11-a5ff-ee64c8a4273b",
   "metadata": {},
   "outputs": [
    {
     "name": "stdout",
     "output_type": "stream",
     "text": [
      "apples     3\n",
      "Bananas    2\n",
      "Oranges    1\n",
      "Pears      4\n",
      "dtype: int64\n"
     ]
    }
   ],
   "source": [
    "#Exercise3\n",
    "#Create a Pandas series with the following data: {'apples': 3, 'bananas': 2, 'oranges': 1}. \n",
    "#Then, add a new item to the series with the key 'pears' and the value 4\n",
    "x1=pd.Series({\"apples\":3,\"Bananas\":2,\"Oranges\":1})\n",
    "x1[\"Pears\"]=4\n",
    "print(x1)\n",
    "\n"
   ]
  },
  {
   "cell_type": "code",
   "execution_count": 144,
   "id": "c5dca283-4884-4292-b671-a93378bae02f",
   "metadata": {},
   "outputs": [
    {
     "name": "stdout",
     "output_type": "stream",
     "text": [
      "      name  age  Gender\n",
      "0     John   57    Male\n",
      "1     Anna   37  Female\n",
      "2    Peter   59    Male\n",
      "3    Linda   36  Female\n",
      "4      Tom   33    Male\n",
      "5  Jessica   35  Female\n",
      "6  Michael   56    Male\n",
      "7   Sophia   47  Female\n",
      "8  William   37    Male\n",
      "9    Emily   52  Female\n"
     ]
    }
   ],
   "source": [
    "#Exercise4\n",
    "#Create a dataframe with the following columns: name, age, and gender. The dataframe should have 10 rows of data.\n",
    "data = ({\n",
    "    \"name\":[\"John\",\"Anna\",\"Peter\",\"Linda\",\"Tom\",\"Jessica\",\"Michael\",\"Sophia\",\"William\",\"Emily\"],\n",
    "    \"age\": np.random.randint(20,60,10),\n",
    "    \"Gender\":[\"Male\",\"Female\",\"Male\",\"Female\",\"Male\",\"Female\",\"Male\",\"Female\",\"Male\",\"Female\"]\n",
    "})\n",
    "df=pd.DataFrame(data)\n",
    "print(df)\n"
   ]
  },
  {
   "cell_type": "code",
   "execution_count": null,
   "id": "246d0669-deeb-4a39-a5b7-b4e9185758c3",
   "metadata": {},
   "outputs": [],
   "source": []
  },
  {
   "cell_type": "code",
   "execution_count": 81,
   "id": "4004ff06-4358-4ea0-8e9f-c96d0eb1d177",
   "metadata": {},
   "outputs": [
    {
     "name": "stdout",
     "output_type": "stream",
     "text": [
      "      name  age  Gender  Occupation\n",
      "0     John   56    Male  Programmer\n",
      "1     Anna   57  Female     Manager\n",
      "2    Peter   39    Male     Analyst\n",
      "3    Linda   21  Female  Programmer\n",
      "4      Tom   30    Male     Manager\n",
      "5  Jessica   43  Female     Analyst\n",
      "6  Michael   23    Male  Programmer\n",
      "7   Sophia   49  Female     Manager\n",
      "8  William   20    Male     Analyst\n",
      "9    Emily   56  Female  Programmer\n"
     ]
    }
   ],
   "source": [
    "#Exercise5\n",
    "#Add a new column to the data frame created in question 1, called occupation.\n",
    "#The values for this column should be Programmer, Manager, and Analyst, corresponding to the rows in the dataframe\n",
    "df[\"Occupation\"] = [\"Programmer\",\"Manager\",\"Analyst\",\"Programmer\",\"Manager\",\"Analyst\",\"Programmer\",\"Manager\",\"Analyst\",\"Programmer\"]\n",
    "print(df)\n"
   ]
  },
  {
   "cell_type": "code",
   "execution_count": 67,
   "id": "02fcdafc-be16-47cf-b9b8-a7d94364d736",
   "metadata": {},
   "outputs": [
    {
     "data": {
      "text/html": [
       "<div>\n",
       "<style scoped>\n",
       "    .dataframe tbody tr th:only-of-type {\n",
       "        vertical-align: middle;\n",
       "    }\n",
       "\n",
       "    .dataframe tbody tr th {\n",
       "        vertical-align: top;\n",
       "    }\n",
       "\n",
       "    .dataframe thead th {\n",
       "        text-align: right;\n",
       "    }\n",
       "</style>\n",
       "<table border=\"1\" class=\"dataframe\">\n",
       "  <thead>\n",
       "    <tr style=\"text-align: right;\">\n",
       "      <th></th>\n",
       "      <th>name</th>\n",
       "      <th>age</th>\n",
       "      <th>Gender</th>\n",
       "      <th>Occupation</th>\n",
       "    </tr>\n",
       "  </thead>\n",
       "  <tbody>\n",
       "    <tr>\n",
       "      <th>0</th>\n",
       "      <td>John</td>\n",
       "      <td>58</td>\n",
       "      <td>Male</td>\n",
       "      <td>Programmer</td>\n",
       "    </tr>\n",
       "    <tr>\n",
       "      <th>1</th>\n",
       "      <td>Anna</td>\n",
       "      <td>42</td>\n",
       "      <td>Female</td>\n",
       "      <td>Manager</td>\n",
       "    </tr>\n",
       "    <tr>\n",
       "      <th>2</th>\n",
       "      <td>Peter</td>\n",
       "      <td>39</td>\n",
       "      <td>Male</td>\n",
       "      <td>Analyst</td>\n",
       "    </tr>\n",
       "    <tr>\n",
       "      <th>6</th>\n",
       "      <td>Michael</td>\n",
       "      <td>46</td>\n",
       "      <td>Male</td>\n",
       "      <td>Programmer</td>\n",
       "    </tr>\n",
       "    <tr>\n",
       "      <th>7</th>\n",
       "      <td>Sophia</td>\n",
       "      <td>42</td>\n",
       "      <td>Female</td>\n",
       "      <td>Manager</td>\n",
       "    </tr>\n",
       "    <tr>\n",
       "      <th>8</th>\n",
       "      <td>William</td>\n",
       "      <td>56</td>\n",
       "      <td>Male</td>\n",
       "      <td>Analyst</td>\n",
       "    </tr>\n",
       "    <tr>\n",
       "      <th>9</th>\n",
       "      <td>Emily</td>\n",
       "      <td>34</td>\n",
       "      <td>Female</td>\n",
       "      <td>Programmer</td>\n",
       "    </tr>\n",
       "  </tbody>\n",
       "</table>\n",
       "</div>"
      ],
      "text/plain": [
       "      name  age  Gender  Occupation\n",
       "0     John   58    Male  Programmer\n",
       "1     Anna   42  Female     Manager\n",
       "2    Peter   39    Male     Analyst\n",
       "6  Michael   46    Male  Programmer\n",
       "7   Sophia   42  Female     Manager\n",
       "8  William   56    Male     Analyst\n",
       "9    Emily   34  Female  Programmer"
      ]
     },
     "execution_count": 67,
     "metadata": {},
     "output_type": "execute_result"
    }
   ],
   "source": [
    "#Exercise6\n",
    "#Select the rows of the dataframe where the age is greater than or equal to 30. \n",
    "df1=df.loc[df[\"age\"]>=30]\n",
    "df1\n"
   ]
  },
  {
   "cell_type": "code",
   "execution_count": 152,
   "id": "f8c40a49-7fea-4793-95b9-42dfb4acd1ab",
   "metadata": {},
   "outputs": [
    {
     "name": "stdout",
     "output_type": "stream",
     "text": [
      "   Unnamed: 0     name  age  Gender\n",
      "0           0     John   57    Male\n",
      "1           1     Anna   37  Female\n",
      "2           2    Peter   59    Male\n",
      "3           3    Linda   36  Female\n",
      "4           4      Tom   33    Male\n",
      "5           5  Jessica   35  Female\n",
      "6           6  Michael   56    Male\n",
      "7           7   Sophia   47  Female\n",
      "8           8  William   37    Male\n",
      "9           9    Emily   52  Female\n"
     ]
    }
   ],
   "source": [
    "#Exercise7\n",
    "# Convert this dataframe to a csv file and read that csv file, finally display the contents.\n",
    "df.to_csv(\"data.csv\")\n",
    "Data = pd.read_csv(\"data.csv\")\n",
    "print(Data)"
   ]
  },
  {
   "cell_type": "code",
   "execution_count": null,
   "id": "24eaa8e4-a4ce-4fa9-9121-02ee3aaafb70",
   "metadata": {},
   "outputs": [],
   "source": []
  }
 ],
 "metadata": {
  "kernelspec": {
   "display_name": "Python 3 (ipykernel)",
   "language": "python",
   "name": "python3"
  },
  "language_info": {
   "codemirror_mode": {
    "name": "ipython",
    "version": 3
   },
   "file_extension": ".py",
   "mimetype": "text/x-python",
   "name": "python",
   "nbconvert_exporter": "python",
   "pygments_lexer": "ipython3",
   "version": "3.12.4"
  }
 },
 "nbformat": 4,
 "nbformat_minor": 5
}
